{
 "cells": [
  {
   "cell_type": "markdown",
   "metadata": {},
   "source": [
    "#### Webscraping of Naukri.com for Machine learning job opportunities             "
   ]
  },
  {
   "cell_type": "markdown",
   "metadata": {},
   "source": [
    "Scrapping Date : 12/7/2021"
   ]
  },
  {
   "cell_type": "code",
   "execution_count": 1,
   "metadata": {},
   "outputs": [],
   "source": [
    "import bs4\n",
    "import requests\n",
    "import pandas as pd\n",
    "import math\n",
    "import time\n",
    "import matplotlib\n",
    "# import urllib2\n",
    "from bs4 import BeautifulSoup\n",
    "from selenium import webdriver"
   ]
  },
  {
   "cell_type": "markdown",
   "metadata": {},
   "source": [
    "#### Sttoring URLS of all job pages on naukkri.com"
   ]
  },
  {
   "cell_type": "code",
   "execution_count": 174,
   "metadata": {},
   "outputs": [
    {
     "name": "stderr",
     "output_type": "stream",
     "text": [
      "100%|████████████████████████████████████████████████████████████████████████████████| 169/169 [14:30<00:00,  5.15s/it]\n"
     ]
    }
   ],
   "source": [
    "url_list=[]\n",
    "url_list_2=[]\n",
    "driver = webdriver.Chrome(r\"C:\\Users\\Akshay\\Downloads\\chromedriver_win32 (1)\\chromedriver.exe\")\n",
    "for index in tqdm.tqdm(range(31,200)):\n",
    "    url = \"https://www.naukri.com/machine-learning-jobs-\"+str({index})\n",
    "    \n",
    "    driver.get(url)\n",
    "    soup = BeautifulSoup(driver.page_source,'html5lib')\n",
    "    \n",
    "    results = soup.find(class_='list')\n",
    "    # print(results)\n",
    "    try:\n",
    "        job_elems = results.find_all('article',class_='jobTuple bgWhite br4 mb-8')\n",
    "        for elements in job_elems:\n",
    "            URL = elements.find('a',class_='title fw500 ellipsis').get('href')\n",
    "            url_list_2.append(URL)\n",
    "    except Exception as e:\n",
    "        continue\n",
    "        \n",
    "driver.close()"
   ]
  },
  {
   "cell_type": "code",
   "execution_count": 3,
   "metadata": {},
   "outputs": [],
   "source": [
    "driver.close()"
   ]
  },
  {
   "cell_type": "markdown",
   "metadata": {},
   "source": [
    "#### Searshing for appropriate tage and checking outputs"
   ]
  },
  {
   "cell_type": "code",
   "execution_count": 107,
   "metadata": {},
   "outputs": [],
   "source": [
    "url=\"https://www.naukri.com/job-listings-senior-lead-data-scientist-machine-learning-deep-learning-squareroot-consulting-pvt-ltd-bangalore-bengaluru-1-to-6-years-010320600083?src=jobsearchDesk&sid=16261375629847603&xp=3&px=1\""
   ]
  },
  {
   "cell_type": "code",
   "execution_count": 108,
   "metadata": {},
   "outputs": [],
   "source": [
    "driver = webdriver.Chrome(r\"C:\\Users\\Akshay\\Downloads\\chromedriver_win32 (1)\\chromedriver.exe\")\n",
    "driver.get(url)\n",
    "soup = BeautifulSoup(driver.page_source,'html5lib')\n",
    "driver.close()"
   ]
  },
  {
   "cell_type": "markdown",
   "metadata": {},
   "source": [
    "#### Job Title"
   ]
  },
  {
   "cell_type": "code",
   "execution_count": 109,
   "metadata": {},
   "outputs": [
    {
     "data": {
      "text/plain": [
       "'Senior/Lead Data Scientist - Machine Learning/Deep Learning'"
      ]
     },
     "execution_count": 109,
     "metadata": {},
     "output_type": "execute_result"
    }
   ],
   "source": [
    "results=soup.find_all(\"div\",class_='top')\n",
    "header_element=results[0].find('div',class_='jd-top-head')\n",
    "title=header_element.select(\"h1\")\n",
    "title[0].get('title')"
   ]
  },
  {
   "cell_type": "markdown",
   "metadata": {},
   "source": [
    "#### Job company"
   ]
  },
  {
   "cell_type": "code",
   "execution_count": 52,
   "metadata": {},
   "outputs": [
    {
     "data": {
      "text/plain": [
       "'Squareroot Consulting Pvt Ltd.'"
      ]
     },
     "execution_count": 52,
     "metadata": {},
     "output_type": "execute_result"
    }
   ],
   "source": [
    "company=header_element.find(\"div\",class_=\"jd-header-comp-name\")\n",
    "company.text"
   ]
  },
  {
   "cell_type": "markdown",
   "metadata": {},
   "source": [
    "#### Experience"
   ]
  },
  {
   "cell_type": "code",
   "execution_count": 56,
   "metadata": {},
   "outputs": [
    {
     "data": {
      "text/plain": [
       "'1 - 6 years'"
      ]
     },
     "execution_count": 56,
     "metadata": {},
     "output_type": "execute_result"
    }
   ],
   "source": [
    "# left\n",
    "left=results[0].find('div',class_='left')\n",
    "left.find(\"div\",class_=\"exp\").text"
   ]
  },
  {
   "cell_type": "markdown",
   "metadata": {},
   "source": [
    "#### Salary"
   ]
  },
  {
   "cell_type": "code",
   "execution_count": 57,
   "metadata": {},
   "outputs": [
    {
     "data": {
      "text/plain": [
       "'Not Disclosed'"
      ]
     },
     "execution_count": 57,
     "metadata": {},
     "output_type": "execute_result"
    }
   ],
   "source": [
    "# salary\n",
    "left.find(\"div\",class_=\"salary\").text"
   ]
  },
  {
   "cell_type": "markdown",
   "metadata": {},
   "source": [
    "#### Location"
   ]
  },
  {
   "cell_type": "code",
   "execution_count": 63,
   "metadata": {},
   "outputs": [
    {
     "data": {
      "text/plain": [
       "'Bangalore/Bengaluru'"
      ]
     },
     "execution_count": 63,
     "metadata": {},
     "output_type": "execute_result"
    }
   ],
   "source": [
    "loc=left.find(\"div\",class_=\"loc\")\n",
    "loc.find(\"a\").text"
   ]
  },
  {
   "cell_type": "markdown",
   "metadata": {},
   "source": [
    "#### Bottom other details"
   ]
  },
  {
   "cell_type": "code",
   "execution_count": 64,
   "metadata": {},
   "outputs": [],
   "source": [
    "other_details_results=soup.find_all(\"div\",class_='other-details')"
   ]
  },
  {
   "cell_type": "markdown",
   "metadata": {},
   "source": [
    "#### Role"
   ]
  },
  {
   "cell_type": "code",
   "execution_count": 75,
   "metadata": {},
   "outputs": [
    {
     "data": {
      "text/plain": [
       "'Software Developer,'"
      ]
     },
     "execution_count": 75,
     "metadata": {},
     "output_type": "execute_result"
    }
   ],
   "source": [
    "other_details_results[0].find_all(\"div\",class_=\"details\")[0].find(\"span\").text"
   ]
  },
  {
   "cell_type": "markdown",
   "metadata": {},
   "source": [
    "#### industry type"
   ]
  },
  {
   "cell_type": "code",
   "execution_count": 104,
   "metadata": {},
   "outputs": [
    {
     "data": {
      "text/plain": [
       "'Internet'"
      ]
     },
     "execution_count": 104,
     "metadata": {},
     "output_type": "execute_result"
    }
   ],
   "source": [
    "other_details_results[0].find_all(\"div\",class_=\"details\")[1].find(\"span\").text.rstrip(\",\")"
   ]
  },
  {
   "cell_type": "markdown",
   "metadata": {},
   "source": [
    "#### Functional Area"
   ]
  },
  {
   "cell_type": "code",
   "execution_count": 103,
   "metadata": {},
   "outputs": [
    {
     "data": {
      "text/plain": [
       "'IT Software - eCommerce, Internet Technologies'"
      ]
     },
     "execution_count": 103,
     "metadata": {},
     "output_type": "execute_result"
    }
   ],
   "source": [
    "other_details_results[0].find_all(\"div\",class_=\"details\")[2].find(\"span\").text.rstrip(\",\")"
   ]
  },
  {
   "cell_type": "markdown",
   "metadata": {},
   "source": [
    "#### Employement type"
   ]
  },
  {
   "cell_type": "code",
   "execution_count": 78,
   "metadata": {},
   "outputs": [
    {
     "data": {
      "text/plain": [
       "'Full Time, Permanent'"
      ]
     },
     "execution_count": 78,
     "metadata": {},
     "output_type": "execute_result"
    }
   ],
   "source": [
    "other_details_results[0].find_all(\"div\",class_=\"details\")[3].find(\"span\").text"
   ]
  },
  {
   "cell_type": "markdown",
   "metadata": {},
   "source": [
    "#### Role Category"
   ]
  },
  {
   "cell_type": "code",
   "execution_count": 79,
   "metadata": {},
   "outputs": [
    {
     "data": {
      "text/plain": [
       "'Programming & Design'"
      ]
     },
     "execution_count": 79,
     "metadata": {},
     "output_type": "execute_result"
    }
   ],
   "source": [
    "other_details_results[0].find_all(\"div\",class_=\"details\")[4].find(\"span\").text"
   ]
  },
  {
   "cell_type": "markdown",
   "metadata": {},
   "source": [
    "#### Education"
   ]
  },
  {
   "cell_type": "code",
   "execution_count": 83,
   "metadata": {},
   "outputs": [],
   "source": [
    "education=soup.find_all(\"div\",class_='education')"
   ]
  },
  {
   "cell_type": "markdown",
   "metadata": {},
   "source": [
    "#### Ug"
   ]
  },
  {
   "cell_type": "code",
   "execution_count": 85,
   "metadata": {},
   "outputs": [
    {
     "data": {
      "text/plain": [
       "'Any Graduate'"
      ]
     },
     "execution_count": 85,
     "metadata": {},
     "output_type": "execute_result"
    }
   ],
   "source": [
    "education[0].find_all(\"div\",class_=\"details\")[0].find(\"span\").text"
   ]
  },
  {
   "cell_type": "markdown",
   "metadata": {},
   "source": [
    "##### pg"
   ]
  },
  {
   "cell_type": "code",
   "execution_count": 86,
   "metadata": {},
   "outputs": [
    {
     "data": {
      "text/plain": [
       "'Any Postgraduate'"
      ]
     },
     "execution_count": 86,
     "metadata": {},
     "output_type": "execute_result"
    }
   ],
   "source": [
    "education[0].find_all(\"div\",class_=\"details\")[1].find(\"span\").text"
   ]
  },
  {
   "cell_type": "markdown",
   "metadata": {},
   "source": [
    "##### Docterate"
   ]
  },
  {
   "cell_type": "code",
   "execution_count": 87,
   "metadata": {},
   "outputs": [
    {
     "data": {
      "text/plain": [
       "'Any Doctorate'"
      ]
     },
     "execution_count": 87,
     "metadata": {},
     "output_type": "execute_result"
    }
   ],
   "source": [
    "education[0].find_all(\"div\",class_=\"details\")[2].find(\"span\").text"
   ]
  },
  {
   "cell_type": "markdown",
   "metadata": {},
   "source": [
    "## Key skills"
   ]
  },
  {
   "cell_type": "code",
   "execution_count": 89,
   "metadata": {},
   "outputs": [],
   "source": [
    "# key-skill\n",
    "key_skills=soup.find_all(\"div\",class_='key-skill')\n",
    "list_skilla=key_skills[0].find_all(\"a\")\n",
    "final_Skills_list=[]\n",
    "for i in range(0,len(list_skilla)):\n",
    "    final_Skills_list.append(list_skilla[i].text)"
   ]
  },
  {
   "cell_type": "code",
   "execution_count": 97,
   "metadata": {},
   "outputs": [
    {
     "data": {
      "text/plain": [
       "'Visualization'"
      ]
     },
     "execution_count": 97,
     "metadata": {},
     "output_type": "execute_result"
    }
   ],
   "source": [
    "list_skilla[0].text"
   ]
  },
  {
   "cell_type": "markdown",
   "metadata": {},
   "source": [
    "#### Skill list"
   ]
  },
  {
   "cell_type": "code",
   "execution_count": 100,
   "metadata": {},
   "outputs": [],
   "source": [
    "final_Skills_list=[]\n",
    "for i in range(0,len(list_skilla)):\n",
    "    final_Skills_list.append(list_skilla[i].text)"
   ]
  },
  {
   "cell_type": "code",
   "execution_count": 262,
   "metadata": {},
   "outputs": [
    {
     "name": "stdout",
     "output_type": "stream",
     "text": [
      "['Data Science', 'Pattern Recognition', 'Artificial Intelligence AI', 'Image Processing', 'Computer Science', 'Data Mining', 'Research', 'Computer Vision', 'Machine Learning', 'Deep Learning']\n"
     ]
    }
   ],
   "source": [
    "print(final_Skills_list)"
   ]
  },
  {
   "cell_type": "markdown",
   "metadata": {},
   "source": [
    "#### Script to Scrape all the pages"
   ]
  },
  {
   "cell_type": "code",
   "execution_count": 161,
   "metadata": {},
   "outputs": [],
   "source": [
    "import tqdm as tqdm"
   ]
  },
  {
   "cell_type": "code",
   "execution_count": 175,
   "metadata": {},
   "outputs": [
    {
     "name": "stderr",
     "output_type": "stream",
     "text": [
      "100%|████████████████████████████████████████████████████████████████████████████| 2720/2720 [1:32:10<00:00,  2.03s/it]\n"
     ]
    }
   ],
   "source": [
    "all_jobs_dict_list=[]\n",
    "all_jobs_dict_list_2=[]\n",
    "driver = webdriver.Chrome(r\"C:\\Users\\Akshay\\Downloads\\chromedriver_win32 (1)\\chromedriver.exe\")\n",
    "for url in tqdm.tqdm(url_list_2):\n",
    "    \n",
    "    eachJobdict={}\n",
    "    \n",
    "    driver.get(url)\n",
    "    soup = BeautifulSoup(driver.page_source,'html5lib')\n",
    "\n",
    "    \n",
    "    ## Job Title:\n",
    "    try:\n",
    "        results=soup.find_all(\"div\",class_='top')\n",
    "        header_element=results[0].find('div',class_='jd-top-head')\n",
    "        title=header_element.select(\"h1\")\n",
    "        job_title=title[0].get('title')\n",
    "        \n",
    "        eachJobdict[\"job_title\"]=job_title\n",
    "    except Exception as e:\n",
    "        eachJobdict[\"job_title\"]=\"none\"       \n",
    "        continue\n",
    "        \n",
    "    ## Job Company\n",
    "    try:\n",
    "        company=header_element.find(\"div\",class_=\"jd-header-comp-name\")\n",
    "        company=company.text\n",
    "        eachJobdict[\"company\"]=company\n",
    "    except Exception as e:\n",
    "        eachJobdict[\"company\"]=\"none\"\n",
    "        print(\"Job company: \",e)\n",
    "        continue\n",
    "        \n",
    "    ## Experience\n",
    "    try:\n",
    "        left=results[0].find('div',class_='left')\n",
    "        experience=left.find(\"div\",class_=\"exp\").text\n",
    "        eachJobdict[\"experience\"]=experience\n",
    "    except Exception as e:\n",
    "        eachJobdict[\"experience\"]=\"none\"\n",
    "        print(\"Experience: \",e)\n",
    "        continue\n",
    "    \n",
    "    ##Salary\n",
    "    try:\n",
    "        salary=left.find(\"div\",class_=\"salary\").text\n",
    "        eachJobdict[\"salary\"]=salary\n",
    "    except Exception as e:\n",
    "        eachJobdict[\"salary\"]=\"none\"\n",
    "        print(\"Salary: \",e)\n",
    "        continue\n",
    "    \n",
    "    ## Location\n",
    "    try:\n",
    "        loc=left.find(\"div\",class_=\"loc\")\n",
    "        location=loc.find(\"a\").text\n",
    "        eachJobdict[\"location\"]=location\n",
    "    except Exception as e:\n",
    "        eachJobdict[\"location\"]=\"none\"\n",
    "        print(\"Location: \",e)\n",
    "        continue\n",
    "     \n",
    "    \n",
    "    ##other details : \n",
    "    try:\n",
    "        other_details_results=soup.find_all(\"div\",class_='other-details')\n",
    "        role=other_details_results[0].find_all(\"div\",class_=\"details\")[0].find(\"span\").text\n",
    "        eachJobdict[\"role\"]=role\n",
    "    except Exception as e:\n",
    "        eachJobdict[\"role\"]=\"none\"\n",
    "        print(\"other details: \",e)\n",
    "        continue\n",
    "        \n",
    "    #### Industry Type\n",
    "    try:\n",
    "        industry_type=other_details_results[0].find_all(\"div\",class_=\"details\")[1].find(\"span\").text.rstrip(\",\")\n",
    "        eachJobdict[\"industry_type\"]=industry_type\n",
    "    except Exception as e:\n",
    "        eachJobdict[\"industry_type\"]=\"none\"\n",
    "        print(\"Industry Type: \",e)\n",
    "        continue\n",
    "        \n",
    "    #### Functional Areal\n",
    "    try:\n",
    "        functional_area=other_details_results[0].find_all(\"div\",class_=\"details\")[2].find(\"span\").text.rstrip(\",\")\n",
    "        eachJobdict[\"industry_type\"]=functional_area\n",
    "    except Exception as e:\n",
    "        eachJobdict[\"functional_area\"]=\"none\"\n",
    "        print(\"Functional Area: \",e)\n",
    "        continue\n",
    "        \n",
    "    #### Employement Typel\n",
    "    try:\n",
    "        employement_type=other_details_results[0].find_all(\"div\",class_=\"details\")[3].find(\"span\").text\n",
    "        eachJobdict[\"employement_type\"]=employement_type\n",
    "    except Exception as e:\n",
    "        eachJobdict[\"employement_type\"]=\"none\"\n",
    "        print(\"employement_type: \",e)\n",
    "        continue\n",
    "        \n",
    "    #### Role Category\n",
    "    try:\n",
    "        role_category=other_details_results[0].find_all(\"div\",class_=\"details\")[4].find(\"span\").text\n",
    "        eachJobdict[\"role_category\"]=role_category\n",
    "    except Exception as e:\n",
    "        eachJobdict[\"role_category\"]=\"none\"\n",
    "        print(\"role_category: \",e)\n",
    "        continue\n",
    "    \n",
    "    ## Education\n",
    "    \n",
    "    ## UG\n",
    "    try:\n",
    "        education=soup.find_all(\"div\",class_='education')\n",
    "        ug=education[0].find_all(\"div\",class_=\"details\")[0].find(\"span\").text\n",
    "        eachJobdict[\"ug\"]=ug\n",
    "    except Exception as e:\n",
    "        eachJobdict[\"ug\"]=\"none\"\n",
    "\n",
    "\n",
    "        \n",
    "        \n",
    "    ## PG\n",
    "    try:\n",
    "        pg=education[0].find_all(\"div\",class_=\"details\")[1].find(\"span\").text\n",
    "        eachJobdict[\"pg\"]=pg\n",
    "    except Exception as e:\n",
    "        eachJobdict[\"pg\"]=\"none\"\n",
    "\n",
    "\n",
    "        \n",
    "    ## Docterate\n",
    "    try:\n",
    "        docterate=education[0].find_all(\"div\",class_=\"details\")[2].find(\"span\").text\n",
    "        eachJobdict[\"docterate\"]=docterate\n",
    "    except Exception as e:\n",
    "        eachJobdict[\"docterate\"]=\"none\"\n",
    "\n",
    "\n",
    "        \n",
    "    ## Skills\n",
    "    try:\n",
    "        key_skills=soup.find_all(\"div\",class_='key-skill')\n",
    "        list_skilla=key_skills[0].find_all(\"a\")\n",
    "        final_Skills_list=[]\n",
    "        for i in range(0,len(list_skilla)):\n",
    "            final_Skills_list.append(list_skilla[i].text)\n",
    "            \n",
    "        eachJobdict[\"key_skills\"]=final_Skills_list\n",
    "    except Exception as e:\n",
    "        eachJobdict[\"key_skills\"]=\"none\"\n",
    "        print(\"Skills: \",e)\n",
    "        continue\n",
    "\n",
    "    all_jobs_dict_list_2.append(eachJobdict)\n",
    "driver.close()"
   ]
  },
  {
   "cell_type": "code",
   "execution_count": 176,
   "metadata": {},
   "outputs": [
    {
     "data": {
      "text/plain": [
       "(2720, 2223)"
      ]
     },
     "execution_count": 176,
     "metadata": {},
     "output_type": "execute_result"
    }
   ],
   "source": [
    "len(url_list_2),len(all_jobs_dict_list_2)"
   ]
  },
  {
   "cell_type": "code",
   "execution_count": 139,
   "metadata": {},
   "outputs": [],
   "source": [
    "req_dict=all_jobs_dict[4]"
   ]
  },
  {
   "cell_type": "markdown",
   "metadata": {},
   "source": [
    "#### To DataFrame"
   ]
  },
  {
   "cell_type": "code",
   "execution_count": 140,
   "metadata": {},
   "outputs": [],
   "source": [
    "import pandas as pd"
   ]
  },
  {
   "cell_type": "code",
   "execution_count": 141,
   "metadata": {},
   "outputs": [],
   "source": [
    "# df=pd.DataFrame()"
   ]
  },
  {
   "cell_type": "code",
   "execution_count": 177,
   "metadata": {},
   "outputs": [
    {
     "data": {
      "text/html": [
       "<div>\n",
       "<style scoped>\n",
       "    .dataframe tbody tr th:only-of-type {\n",
       "        vertical-align: middle;\n",
       "    }\n",
       "\n",
       "    .dataframe tbody tr th {\n",
       "        vertical-align: top;\n",
       "    }\n",
       "\n",
       "    .dataframe thead th {\n",
       "        text-align: right;\n",
       "    }\n",
       "</style>\n",
       "<table border=\"1\" class=\"dataframe\">\n",
       "  <thead>\n",
       "    <tr style=\"text-align: right;\">\n",
       "      <th></th>\n",
       "      <th>company</th>\n",
       "      <th>docterate</th>\n",
       "      <th>employement_type</th>\n",
       "      <th>experience</th>\n",
       "      <th>industry_type</th>\n",
       "      <th>job_title</th>\n",
       "      <th>key_skills</th>\n",
       "      <th>location</th>\n",
       "      <th>pg</th>\n",
       "      <th>role</th>\n",
       "      <th>role_category</th>\n",
       "      <th>salary</th>\n",
       "      <th>ug</th>\n",
       "    </tr>\n",
       "  </thead>\n",
       "  <tbody>\n",
       "    <tr>\n",
       "      <th>0</th>\n",
       "      <td>Squareroot Consulting Pvt Ltd.</td>\n",
       "      <td>Any Doctorate</td>\n",
       "      <td>Full Time, Permanent</td>\n",
       "      <td>1 - 6 years</td>\n",
       "      <td>IT Software - eCommerce, Internet Technologies</td>\n",
       "      <td>Senior/Lead Data Scientist - Machine Learning/...</td>\n",
       "      <td>[Visualization, Exploratory Testing, Machine L...</td>\n",
       "      <td>Bangalore/Bengaluru</td>\n",
       "      <td>Any Postgraduate</td>\n",
       "      <td>Software Developer,</td>\n",
       "      <td>Programming &amp; Design</td>\n",
       "      <td>Not Disclosed</td>\n",
       "      <td>Any Graduate</td>\n",
       "    </tr>\n",
       "    <tr>\n",
       "      <th>1</th>\n",
       "      <td>Creeno Solutions</td>\n",
       "      <td>Doctorate Not Required</td>\n",
       "      <td>Full Time, Permanent</td>\n",
       "      <td>2 - 6 years</td>\n",
       "      <td>IT Software - DBA, Datawarehousing</td>\n",
       "      <td>Data Engineer / Machine Learning Engineer/ Big...</td>\n",
       "      <td>[RabbitMQ, Java, Azure, NoSQL, Microservices A...</td>\n",
       "      <td>Bangalore/Bengaluru</td>\n",
       "      <td>Any Postgraduate</td>\n",
       "      <td>Software Developer,</td>\n",
       "      <td>Programming &amp; Design</td>\n",
       "      <td>Not Disclosed</td>\n",
       "      <td>B.Tech/B.E. in Computers</td>\n",
       "    </tr>\n",
       "    <tr>\n",
       "      <th>2</th>\n",
       "      <td>Rocket Flyer Technology5.0(2 Reviews)</td>\n",
       "      <td>Doctorate Not Required</td>\n",
       "      <td>Full Time, Permanent</td>\n",
       "      <td>0 - 4 years</td>\n",
       "      <td>IT Software - Application Programming, Mainten...</td>\n",
       "      <td>Software Development Engineer Artificial Intel...</td>\n",
       "      <td>[Tensorflow, REST API, Open Source, Shell Scri...</td>\n",
       "      <td>Gurgaon/Gurugram</td>\n",
       "      <td>Any Postgraduate</td>\n",
       "      <td>Software Developer,</td>\n",
       "      <td>Programming &amp; Design</td>\n",
       "      <td>Not Disclosed</td>\n",
       "      <td>B.Tech/B.E. in Any Specialization, BCA in Comp...</td>\n",
       "    </tr>\n",
       "    <tr>\n",
       "      <th>3</th>\n",
       "      <td>Milletech DataSoft Systems Pvt. Ltd.1.7(6 Revi...</td>\n",
       "      <td>none</td>\n",
       "      <td>Full Time, Permanent</td>\n",
       "      <td>0 - 5 years</td>\n",
       "      <td>IT Software - Application Programming, Mainten...</td>\n",
       "      <td>Python Machine Learning Engineer/Developer</td>\n",
       "      <td>[Machine Learning, Python]</td>\n",
       "      <td>Pune</td>\n",
       "      <td>MCA in Any Specialization, MS/M.Sc(Science) in...</td>\n",
       "      <td>Technical Architect,</td>\n",
       "      <td>Programming &amp; Design</td>\n",
       "      <td>₹ 5,00,000 - 10,00,000 P.A.</td>\n",
       "      <td>B.Tech/B.E. in Electronics/Telecommunication, ...</td>\n",
       "    </tr>\n",
       "    <tr>\n",
       "      <th>4</th>\n",
       "      <td>ZYCLYX CONSULTING SERVICES PRIVATE LIMITED</td>\n",
       "      <td>none</td>\n",
       "      <td>Full Time, Permanent</td>\n",
       "      <td>2 - 7 years</td>\n",
       "      <td>IT Software - System Programming</td>\n",
       "      <td>Senior Machine Learning Engineer</td>\n",
       "      <td>[Microservices, NLP, Opencv, Machine Learning,...</td>\n",
       "      <td>Hyderabad/Secunderabad</td>\n",
       "      <td>none</td>\n",
       "      <td>Software Developer,</td>\n",
       "      <td>Programming &amp; Design</td>\n",
       "      <td>Not Disclosed</td>\n",
       "      <td>Any Graduate</td>\n",
       "    </tr>\n",
       "  </tbody>\n",
       "</table>\n",
       "</div>"
      ],
      "text/plain": [
       "                                             company               docterate  \\\n",
       "0                     Squareroot Consulting Pvt Ltd.           Any Doctorate   \n",
       "1                                   Creeno Solutions  Doctorate Not Required   \n",
       "2              Rocket Flyer Technology5.0(2 Reviews)  Doctorate Not Required   \n",
       "3  Milletech DataSoft Systems Pvt. Ltd.1.7(6 Revi...                    none   \n",
       "4        ZYCLYX CONSULTING SERVICES PRIVATE LIMITED                     none   \n",
       "\n",
       "       employement_type   experience  \\\n",
       "0  Full Time, Permanent  1 - 6 years   \n",
       "1  Full Time, Permanent  2 - 6 years   \n",
       "2  Full Time, Permanent  0 - 4 years   \n",
       "3  Full Time, Permanent  0 - 5 years   \n",
       "4  Full Time, Permanent  2 - 7 years   \n",
       "\n",
       "                                       industry_type  \\\n",
       "0     IT Software - eCommerce, Internet Technologies   \n",
       "1                 IT Software - DBA, Datawarehousing   \n",
       "2  IT Software - Application Programming, Mainten...   \n",
       "3  IT Software - Application Programming, Mainten...   \n",
       "4                   IT Software - System Programming   \n",
       "\n",
       "                                           job_title  \\\n",
       "0  Senior/Lead Data Scientist - Machine Learning/...   \n",
       "1  Data Engineer / Machine Learning Engineer/ Big...   \n",
       "2  Software Development Engineer Artificial Intel...   \n",
       "3         Python Machine Learning Engineer/Developer   \n",
       "4                   Senior Machine Learning Engineer   \n",
       "\n",
       "                                          key_skills                location  \\\n",
       "0  [Visualization, Exploratory Testing, Machine L...     Bangalore/Bengaluru   \n",
       "1  [RabbitMQ, Java, Azure, NoSQL, Microservices A...     Bangalore/Bengaluru   \n",
       "2  [Tensorflow, REST API, Open Source, Shell Scri...        Gurgaon/Gurugram   \n",
       "3                         [Machine Learning, Python]                    Pune   \n",
       "4  [Microservices, NLP, Opencv, Machine Learning,...  Hyderabad/Secunderabad   \n",
       "\n",
       "                                                  pg                  role  \\\n",
       "0                                   Any Postgraduate   Software Developer,   \n",
       "1                                   Any Postgraduate   Software Developer,   \n",
       "2                                   Any Postgraduate   Software Developer,   \n",
       "3  MCA in Any Specialization, MS/M.Sc(Science) in...  Technical Architect,   \n",
       "4                                               none   Software Developer,   \n",
       "\n",
       "          role_category                        salary  \\\n",
       "0  Programming & Design                 Not Disclosed   \n",
       "1  Programming & Design                 Not Disclosed   \n",
       "2  Programming & Design                 Not Disclosed   \n",
       "3  Programming & Design  ₹ 5,00,000 - 10,00,000 P.A.    \n",
       "4  Programming & Design                 Not Disclosed   \n",
       "\n",
       "                                                  ug  \n",
       "0                                       Any Graduate  \n",
       "1                           B.Tech/B.E. in Computers  \n",
       "2  B.Tech/B.E. in Any Specialization, BCA in Comp...  \n",
       "3  B.Tech/B.E. in Electronics/Telecommunication, ...  \n",
       "4                                       Any Graduate  "
      ]
     },
     "execution_count": 177,
     "metadata": {},
     "output_type": "execute_result"
    }
   ],
   "source": [
    "# output = pd.DataFrame()\n",
    "for dictionaries in all_jobs_dict_list_2:\n",
    "    output = output.append(dictionaries, ignore_index=True)\n",
    "output.head()"
   ]
  },
  {
   "cell_type": "code",
   "execution_count": 182,
   "metadata": {},
   "outputs": [],
   "source": [
    "output.to_csv(\"naukri.csv\",index=False)"
   ]
  },
  {
   "cell_type": "markdown",
   "metadata": {},
   "source": [
    "#### Total size"
   ]
  },
  {
   "cell_type": "code",
   "execution_count": 178,
   "metadata": {},
   "outputs": [
    {
     "data": {
      "text/plain": [
       "(2540, 13)"
      ]
     },
     "execution_count": 178,
     "metadata": {},
     "output_type": "execute_result"
    }
   ],
   "source": [
    "output.shape"
   ]
  },
  {
   "cell_type": "markdown",
   "metadata": {},
   "source": [
    "#### Total jobs Scraped = 2540  each with 13datapoints"
   ]
  },
  {
   "cell_type": "code",
   "execution_count": 195,
   "metadata": {},
   "outputs": [],
   "source": [
    "import seaborn as sns"
   ]
  },
  {
   "cell_type": "code",
   "execution_count": 192,
   "metadata": {},
   "outputs": [],
   "source": [
    "skill_list=[]\n",
    "for skills in output.key_skills:\n",
    "    for skill in skills:\n",
    "        skill_list.append(skill)"
   ]
  },
  {
   "cell_type": "code",
   "execution_count": 203,
   "metadata": {},
   "outputs": [],
   "source": [
    "import matplotlib.pyplot as plt"
   ]
  },
  {
   "cell_type": "markdown",
   "metadata": {},
   "source": [
    "### Skill counts"
   ]
  },
  {
   "cell_type": "code",
   "execution_count": 266,
   "metadata": {},
   "outputs": [],
   "source": [
    "skill_list_2=[w.replace(\"Machine learning\",\"Machine Learning\") for w in skill_list]\n",
    "skill_list_2=[w.replace(\"Natural language processing\",\"Natural Language Processing\") for w in skill_list_2]\n",
    "skill_list_2=[w.replace(\"NLP\",\"Natural Language Processing\") for w in skill_list_2]"
   ]
  },
  {
   "cell_type": "code",
   "execution_count": 267,
   "metadata": {},
   "outputs": [],
   "source": [
    "pd.set_option('display.max_columns', None)\n",
    "pd.set_option('display.max_rows', None)"
   ]
  },
  {
   "cell_type": "code",
   "execution_count": 268,
   "metadata": {
    "scrolled": false
   },
   "outputs": [
    {
     "data": {
      "text/plain": [
       "Machine Learning                                     2426\n",
       "Python                                               1909\n",
       "Artificial Intelligence                              1099\n",
       "Natural Language Processing                          1088\n",
       "Deep Learning                                         971\n",
       "Data Science                                          792\n",
       "Data Scientist                                        608\n",
       "Computer Vision                                       496\n",
       "Java                                                  462\n",
       "C++                                                   419\n",
       "Data Management                                       393\n",
       "Algorithm                                             356\n",
       "Data Mining                                           339\n",
       "Data Structure                                        339\n",
       "Speech Recognition                                    297\n",
       "Image Processing                                      295\n",
       "Statistics                                            277\n",
       "deep learning                                         274\n",
       "Keras                                                 257\n",
       "Tensorflow                                            242\n",
       "SQL                                                   239\n",
       "Research                                              236\n",
       "Computer Science                                      198\n",
       "Pattern Recognition                                   198\n",
       "Opencv                                                196\n",
       "Monitoring                                            175\n",
       "R                                                     175\n",
       "Image processing                                      160\n",
       "Pytorch                                               158\n",
       "Algorithms                                            158\n",
       "Numpy                                                 158\n",
       "Computer science                                      148\n",
       "Big Data                                              141\n",
       "Random Forest                                         138\n",
       "Classification                                        138\n",
       "Statistical Analyst                                   133\n",
       "Analytical                                            132\n",
       "Django                                                129\n",
       "Open source                                           127\n",
       "Computer vision                                       126\n",
       "Tableau                                               120\n",
       "Azure                                                 120\n",
       "Statistical Modeling                                  119\n",
       "Data Analytics                                        119\n",
       "Watson                                                117\n",
       "Lstm                                                  117\n",
       "OpenCV                                                117\n",
       "SVM                                                   117\n",
       "HTML                                                  114\n",
       "Data modeling                                         105\n",
       "Data structures                                       105\n",
       "AWS                                                    99\n",
       "Publishing                                             99\n",
       "Product Design                                         99\n",
       "Data mining                                            99\n",
       "Architectural design                                   99\n",
       "Artificial Intelligence                                99\n",
       "Object Detection                                       99\n",
       "Artificial Intelligence AI                             99\n",
       "Cloud                                                  99\n",
       "Microcontroller                                        99\n",
       " AI                                                    99\n",
       "Software implementation                                99\n",
       "SCALA                                                  99\n",
       "Technical Training                                     99\n",
       "Software design                                        99\n",
       "data science                                           99\n",
       "software architecture                                  99\n",
       "computer vision                                        99\n",
       "Statistical analysis                                   99\n",
       "Data Quality                                           98\n",
       "Analytics                                              98\n",
       "Cofounder                                              98\n",
       "Linux                                                  84\n",
       "C                                                      76\n",
       "design                                                 71\n",
       "MySQL                                                  71\n",
       "MATLAB                                                 69\n",
       "Flask                                                  69\n",
       "NoSQL                                                  59\n",
       "IIT                                                    45\n",
       "Startup                                                45\n",
       "Predictive Analytics                                   42\n",
       "Hadoop                                                 42\n",
       "Spark                                                  42\n",
       "Microservices                                          42\n",
       "Mathematics                                            41\n",
       "Information retrieval                                  38\n",
       "Healthcare                                             38\n",
       "HBase                                                  38\n",
       "Text Mining                                            38\n",
       "Hardware                                               38\n",
       "Technical product configuration                        38\n",
       "ITSM                                                   38\n",
       "xml                                                    38\n",
       "Real Time Operating Systems                            38\n",
       "data visualization                                     38\n",
       "ajax                                                   38\n",
       "Version control                                        38\n",
       "Unit testing                                           38\n",
       "Data quality                                           38\n",
       "Time series                                            38\n",
       "assembly language                                      38\n",
       "Corporate training                                     38\n",
       "Corporate                                              38\n",
       "c++                                                    38\n",
       "Deployment                                             38\n",
       "Design review                                          38\n",
       "DevOps                                                 38\n",
       "Docker                                                 38\n",
       "Enterprise applications                                38\n",
       "Environment management                                 38\n",
       "Infrastructure                                         38\n",
       "integration PHP                                        38\n",
       "JavaScript                                             38\n",
       "website                                                38\n",
       "Oracle                                                 38\n",
       "PMP                                                    38\n",
       "software quality                                       38\n",
       "Algorithm Development                                  38\n",
       "Predictive Modeling                                    38\n",
       "AWS SageMaker                                          38\n",
       "Productivity improvement                               38\n",
       "Anomaly Detection                                      38\n",
       ".NET                                                   38\n",
       " data processing                                       38\n",
       " data analytics                                        38\n",
       "RDBMS                                                  38\n",
       " Text Mining                                           38\n",
       " Python                                                38\n",
       "Snowflake                                              38\n",
       "Six Sigma                                              38\n",
       "linux                                                  38\n",
       "javascript                                             38\n",
       "Balance Sheet                                          38\n",
       "LEX                                                    38\n",
       "Data Science Machine Learning Engineering manager      38\n",
       "Linguistics                                            38\n",
       "Loans                                                  38\n",
       "Artificial Intelligence Developer                      38\n",
       "Machine Vision                                         38\n",
       "xhtml                                                  38\n",
       "jquery                                                 38\n",
       "Statistical Inference                                  38\n",
       "Workflow                                               38\n",
       "Perl                                                   34\n",
       "GIT                                                    34\n",
       "technical                                              33\n",
       "developing                                             33\n",
       "Telecommunication                                      33\n",
       "agile                                                  33\n",
       "development                                            33\n",
       "React.js                                               30\n",
       "System Administration                                  30\n",
       "IT Automation Tools                                    30\n",
       "Javascript                                             30\n",
       "Xgboost                                                28\n",
       "RabbitMQ                                               21\n",
       "Reearch                                                21\n",
       "Regression                                             21\n",
       ".                                                      21\n",
       "SDLC                                                   21\n",
       "PHD                                                    21\n",
       "OCR                                                    21\n",
       "semi supervised learning                               21\n",
       "Microservices Architecture                             21\n",
       "Visualization                                          21\n",
       "Koras                                                  21\n",
       "Supervised Learning                                    21\n",
       "Kafka                                                  21\n",
       "Exploratory Testing                                    21\n",
       "Decision Trees                                         21\n",
       "Time Series Analysis                                   21\n",
       "Deep Learning models                                   21\n",
       "Time Series                                            21\n",
       "GPU                                                    21\n",
       "Clustering                                             21\n",
       "Open Source                                            18\n",
       "Shell Scripting                                        18\n",
       "REST API                                               18\n",
       "Image Recognition                                      18\n",
       "Data extraction                                        17\n",
       "github                                                 17\n",
       "Debugging                                              17\n",
       "Logistic regression                                     6\n",
       "Predictive modeling                                     6\n",
       "Agile                                                   6\n",
       "Data analysis                                           6\n",
       "Leadership development                                  6\n",
       "Reporting tools                                         6\n",
       "Nosql                                                   3\n",
       "Problem Solving                                         3\n",
       "AI                                                      3\n",
       "Edutech                                                 3\n",
       "Phd                                                     3\n",
       "dtype: int64"
      ]
     },
     "execution_count": 268,
     "metadata": {},
     "output_type": "execute_result"
    }
   ],
   "source": [
    "# plt.figure(figsize=(10,40))\n",
    "# pd.DataFrame(skill_list_2).value_counts(ascending=True).plot(kind=\"barh\")\n",
    "# plt.show()\n",
    "pd.DataFrame(skill_list_2).value_counts(ascending=False)"
   ]
  },
  {
   "cell_type": "markdown",
   "metadata": {},
   "source": [
    "#### Company vs number of jobs"
   ]
  },
  {
   "cell_type": "code",
   "execution_count": 269,
   "metadata": {},
   "outputs": [
    {
     "data": {
      "text/plain": [
       "Career Maker                                                           297\n",
       "Bion                                                                   198\n",
       "Wipro Limited3.8(12746 Reviews)                                        117\n",
       "DcodeAI Private Limited                                                 99\n",
       "TechnoMile4.5(5 Reviews)                                                99\n",
       "Uber3.9(371 Reviews)                                                    99\n",
       "Surensinffotek                                                          99\n",
       "Ideadunes                                                               99\n",
       "WHITE FORCE OUTSOURCING SERVICES PRIVATE LIMITED                        99\n",
       "Benovymed Healthcare Private Limited                                    98\n",
       "Catalyst                                                                98\n",
       "Dell International Services India  Private Limited4.1(1771 Reviews)     94\n",
       "Exploro Solutions                                                       59\n",
       "Squareroot Consulting Pvt Ltd.                                          45\n",
       "Innovadors Lab Pvt Ltd3.7(3 Reviews)                                    38\n",
       "Confidential                                                            38\n",
       "Compunnel Technology India Private Limited2.9(67 Reviews)               38\n",
       "Oaknorth Bank2.1(26 Reviews)                                            38\n",
       "CarbyneTech India2.7(9 Reviews)                                         38\n",
       "Silverlink Technilogies                                                 38\n",
       "Healthcoco5.0(3 Reviews)                                                38\n",
       "Calpion Software Technologies Pvt. Ltd3.0(23 Reviews)                   38\n",
       "Peopleplus Professional Services Pvt. Ltd.                              38\n",
       "Target Corporation India Pvt Ltd4.4(244 Reviews)                        38\n",
       "Saffron Consultancy Services(scs)                                       38\n",
       "SVKMs Narsee Monjee Institute of Management Studies - NMIMS             38\n",
       "Techsist Solution                                                       38\n",
       "CareerXperts Consulting                                                 38\n",
       "Independent HR Consulting                                               38\n",
       "Wrackle Technologies Pvt Ltd                                            35\n",
       "Megdap Innovation Labs Private Limited                                  34\n",
       "Diverse Lynx2.9(46 Reviews)                                             34\n",
       "Perfect Intelligent Systems                                             33\n",
       "Golden Eagle IT Technologies Pvt Ltd4.8(4 Reviews)                      30\n",
       "ViitorCloud Technologies Pvt Ltd                                        25\n",
       "Milletech DataSoft Systems Pvt. Ltd.1.7(6 Reviews)                      21\n",
       "Fractal Analytics3.9(97 Reviews)                                        21\n",
       "StriveX Consulting Pvt. Ltd3.8(2 Reviews)                               21\n",
       "Creeno Solutions                                                        21\n",
       "AVE-Promagne                                                            21\n",
       "ZYCLYX CONSULTING SERVICES PRIVATE LIMITED                              21\n",
       "Rocket Flyer Technology5.0(2 Reviews)                                   18\n",
       "ATAI LABS                                                               17\n",
       "Dell International Services India  Private Limited4.1(1772 Reviews)     12\n",
       "Pricewaterhouse Coopers Private Limited3.6(2087 Reviews)                 6\n",
       "Name: company, dtype: int64"
      ]
     },
     "execution_count": 269,
     "metadata": {},
     "output_type": "execute_result"
    }
   ],
   "source": [
    "# plt.figure(figsize=(10,20))\n",
    "# output[\"company\"].value_counts(ascending=True).plot(kind=\"barh\")\n",
    "# plt.show()\n",
    "output[\"company\"].value_counts(ascending=False)"
   ]
  },
  {
   "cell_type": "markdown",
   "metadata": {},
   "source": [
    "#### Experience vs number of Jobs"
   ]
  },
  {
   "cell_type": "code",
   "execution_count": 271,
   "metadata": {},
   "outputs": [
    {
     "data": {
      "text/plain": [
       "2 - 6 years      553\n",
       "2 - 7 years      529\n",
       "2 - 5 years      331\n",
       "5 - 10 years     235\n",
       "0 - 5 years      120\n",
       "0 - 4 years      117\n",
       "4 - 9 years      114\n",
       "3 - 8 years      107\n",
       "6 - 11 years      72\n",
       "1 - 6 years       59\n",
       "3 - 7 years       59\n",
       "6 - 10 years      38\n",
       "3 - 5 years       38\n",
       "12 - 16 years     38\n",
       "8 - 13 years      38\n",
       "1 - 5 years       33\n",
       "1 - 3 years       25\n",
       "10 - 16 years     21\n",
       "4 - 7 years        7\n",
       "3 - 6 years        6\n",
       "Name: experience, dtype: int64"
      ]
     },
     "execution_count": 271,
     "metadata": {},
     "output_type": "execute_result"
    }
   ],
   "source": [
    "# plt.figure(figsize=(10,10))\n",
    "# output[\"experience\"].value_counts(ascending=True).plot(kind=\"barh\",color=\"g\")\n",
    "# # sns.barplot(output[\"experience\"].value_counts(ascending=True))\n",
    "# plt.show()\n",
    "output[\"experience\"].value_counts(ascending=False)"
   ]
  },
  {
   "cell_type": "code",
   "execution_count": 258,
   "metadata": {},
   "outputs": [
    {
     "data": {
      "text/plain": [
       "Not Disclosed                   2300\n",
       "₹ 50,000 - 3,00,000 P.A.          99\n",
       "₹ 6,00,000 - 12,00,000 P.A.       99\n",
       "₹ 32,50,000 P.A.                  21\n",
       "₹ 5,00,000 - 10,00,000 P.A.       21\n",
       "Name: salary, dtype: int64"
      ]
     },
     "execution_count": 258,
     "metadata": {},
     "output_type": "execute_result"
    }
   ],
   "source": [
    "output.salary.value_counts()"
   ]
  },
  {
   "cell_type": "code",
   "execution_count": 259,
   "metadata": {},
   "outputs": [
    {
     "data": {
      "text/plain": [
       "Bangalore/Bengaluru       815\n",
       "Noida                     396\n",
       "Hyderabad/Secunderabad    368\n",
       "Pune                      230\n",
       "Mumbai                    175\n",
       "Gurgaon/Gurugram          137\n",
       "Nagpur                    137\n",
       "Chennai                    59\n",
       "Bhubaneswar                38\n",
       "Hyderabad                  38\n",
       "Not specified              38\n",
       "Delhi                      33\n",
       "MP                         30\n",
       "Remote                     25\n",
       "Visakhapatnam              21\n",
       "Name: location, dtype: int64"
      ]
     },
     "execution_count": 259,
     "metadata": {},
     "output_type": "execute_result"
    }
   ],
   "source": [
    "output.location.value_counts()"
   ]
  },
  {
   "cell_type": "code",
   "execution_count": 260,
   "metadata": {},
   "outputs": [
    {
     "data": {
      "text/plain": [
       "Analytics & Business Intelligence                       1152\n",
       "IT Software - Application Programming, Maintenance       598\n",
       "IT Software - System Programming                         191\n",
       "Production, Manufacturing, Maintenance                   124\n",
       "IT Software - DBA, Datawarehousing                       111\n",
       "Design, Creative, User Experience                         99\n",
       "IT Software - eCommerce, Internet Technologies            83\n",
       "Engineering Design, R&D                                   38\n",
       "Accounts, Finance, Tax, Company Secretary, Audit          38\n",
       "IT Software - Other                                       38\n",
       "Sales, Retail, Business Development                       34\n",
       "IT Software - Embedded, EDA, VLSI, ASIC, Chip Design      34\n",
       "Name: industry_type, dtype: int64"
      ]
     },
     "execution_count": 260,
     "metadata": {},
     "output_type": "execute_result"
    }
   ],
   "source": [
    "output.industry_type.value_counts()"
   ]
  },
  {
   "cell_type": "markdown",
   "metadata": {},
   "source": [
    "####  <center>----- Thanks ------ </center>"
   ]
  }
 ],
 "metadata": {
  "kernelspec": {
   "display_name": "Python 3",
   "language": "python",
   "name": "python3"
  }
 },
 "nbformat": 4,
 "nbformat_minor": 4
}
